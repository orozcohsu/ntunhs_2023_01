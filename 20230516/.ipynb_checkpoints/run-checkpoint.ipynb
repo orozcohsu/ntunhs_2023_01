{
 "cells": [
  {
   "cell_type": "markdown",
   "id": "c798122f-3e36-413f-a3f7-029618e24d54",
   "metadata": {},
   "source": [
    "### pre-train"
   ]
  },
  {
   "cell_type": "markdown",
   "id": "9e7f8119-fc66-451d-8952-ca2cf0a8ee5e",
   "metadata": {},
   "source": [
    "<a href=\"https://drive.google.com/file/d/19Yt-JNdUDIXD_3SLQ_TbNOrmzECLyDss\" target=\"_parent\"><img src=\"https://colab.research.google.com/assets/colab-badge.svg\" alt=\"20220328\"></a>"
   ]
  },
  {
   "cell_type": "markdown",
   "id": "79533ef5-0d93-4f6f-ac14-8ba7df9c775f",
   "metadata": {},
   "source": [
    "### transfer_learning_mnist"
   ]
  },
  {
   "cell_type": "markdown",
   "id": "0990b4b9-5a8c-477d-aef3-45ac38c74d9a",
   "metadata": {},
   "source": [
    "<a href=\"https://colab.research.google.com/drive/1HavX1W9zvh2ponAlHf_pMiZQKd7HkD3F\" target=\"_parent\"><img src=\"https://colab.research.google.com/assets/colab-badge.svg\" alt=\"20220328\"></a>"
   ]
  },
  {
   "cell_type": "markdown",
   "id": "0eb8914b-7f07-494d-b89f-aea71ffe5ab1",
   "metadata": {},
   "source": [
    "### fine_tuning"
   ]
  },
  {
   "cell_type": "markdown",
   "id": "354a163b-784a-480f-b6bb-b43a6d9a68d5",
   "metadata": {},
   "source": [
    "<a href=\"https://colab.research.google.com/drive/1lrbVCEmGXY_V9HKpPygrdkAWUXFKwlL9\" target=\"_parent\"><img src=\"https://colab.research.google.com/assets/colab-badge.svg\" alt=\"20220328\"></a>"
   ]
  },
  {
   "cell_type": "markdown",
   "id": "7d33cec7-90c3-4841-895a-2af8e0fdd71f",
   "metadata": {},
   "source": [
    "transfer_learning_resnet50\n"
   ]
  },
  {
   "cell_type": "markdown",
   "id": "3dbe01b1-7be4-42ed-a0c6-4d95e989b12a",
   "metadata": {},
   "source": [
    "<a href=\"https://colab.research.google.com/drive/1AI5Isb8qf__qEMGEXZYzT9lYRLGuZtc2\" target=\"_parent\"><img src=\"https://colab.research.google.com/assets/colab-badge.svg\" alt=\"20220328\"></a>"
   ]
  },
  {
   "cell_type": "code",
   "execution_count": null,
   "id": "1ce1ceab-6990-4cbf-9251-20086e4f2a90",
   "metadata": {},
   "outputs": [],
   "source": []
  }
 ],
 "metadata": {
  "kernelspec": {
   "display_name": "Python 3 (ipykernel)",
   "language": "python",
   "name": "python3"
  },
  "language_info": {
   "codemirror_mode": {
    "name": "ipython",
    "version": 3
   },
   "file_extension": ".py",
   "mimetype": "text/x-python",
   "name": "python",
   "nbconvert_exporter": "python",
   "pygments_lexer": "ipython3",
   "version": "3.8.12"
  }
 },
 "nbformat": 4,
 "nbformat_minor": 5
}
