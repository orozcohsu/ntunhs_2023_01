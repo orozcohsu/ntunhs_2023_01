{
 "cells": [
  {
   "cell_type": "markdown",
   "id": "c798122f-3e36-413f-a3f7-029618e24d54",
   "metadata": {},
   "source": [
    "### check_colab_gpu_tpu.ipynb"
   ]
  },
  {
   "cell_type": "markdown",
   "id": "9e7f8119-fc66-451d-8952-ca2cf0a8ee5e",
   "metadata": {},
   "source": [
    "<a href=\"https://drive.google.com/file/d/17Pye4QWMpknOT42sImBb7Qj4e7SylXR9/view?usp=sharing\" target=\"_parent\"><img src=\"https://colab.research.google.com/assets/colab-badge.svg\" alt=\"Open Vgg16 In Colab\"></a>"
   ]
  },
  {
   "cell_type": "markdown",
   "id": "79533ef5-0d93-4f6f-ac14-8ba7df9c775f",
   "metadata": {},
   "source": [
    "### colab_google_drive.ipynb"
   ]
  },
  {
   "cell_type": "markdown",
   "id": "0990b4b9-5a8c-477d-aef3-45ac38c74d9a",
   "metadata": {},
   "source": [
    "<a href=\"https://drive.google.com/file/d/1woJyjBIJ9xW2klDyy7ves5qPNjxvPFoG/view?usp=sharing\" target=\"_parent\"><img src=\"https://colab.research.google.com/assets/colab-badge.svg\" alt=\"Open Vgg16 In Colab\"></a>"
   ]
  },
  {
   "cell_type": "markdown",
   "id": "0a16863d-751c-484e-bf62-a832f1fe38a8",
   "metadata": {},
   "source": [
    "### tf2_cpu_gpu_colab.ipynb"
   ]
  },
  {
   "cell_type": "markdown",
   "id": "4f5dd6e4-aa10-4139-a8d7-94cfc7440baa",
   "metadata": {},
   "source": [
    "<a href=\"https://colab.research.google.com/drive/1vIPbH7UBSi3Fn7IRteXb6WUrNMukTXOt?usp=sharing\" target=\"_parent\"><img src=\"https://colab.research.google.com/assets/colab-badge.svg\" alt=\"Open Vgg16 In Colab\"></a>"
   ]
  },
  {
   "cell_type": "markdown",
   "id": "3eaa0aa6-66e5-414e-9293-8244f35fed21",
   "metadata": {},
   "source": [
    "### interacting_table.ipynb"
   ]
  },
  {
   "cell_type": "markdown",
   "id": "6f3663cc-3663-4c33-94cc-5bfffc9ed19e",
   "metadata": {},
   "source": [
    "<a href=\"https://colab.research.google.com/drive/1PQktEMN6vcfOWGTZSecL87XiPHB_DIiC?usp=sharing\" target=\"_parent\"><img src=\"https://colab.research.google.com/assets/colab-badge.svg\" alt=\"Open Vgg16 In Colab\"></a>"
   ]
  },
  {
   "cell_type": "markdown",
   "id": "ba7fb5c0-17c5-469b-8a0e-eeab23a292b7",
   "metadata": {},
   "source": [
    "### colab_charts.ipynb"
   ]
  },
  {
   "cell_type": "markdown",
   "id": "11f65e7f-c108-477c-a537-8c357c9bf76e",
   "metadata": {},
   "source": [
    "<a href=\"https://drive.google.com/file/d/1cON-gfokuc6j44DwmTMN7SBBOsexqKWe/view?usp=sharing\" target=\"_parent\"><img src=\"https://colab.research.google.com/assets/colab-badge.svg\" alt=\"Open Vgg16 In Colab\"></a>"
   ]
  },
  {
   "cell_type": "markdown",
   "id": "d2f1c3a9-bf19-48c6-822e-badb1ae73676",
   "metadata": {},
   "source": [
    "### tpu_colab.ipynb"
   ]
  },
  {
   "cell_type": "markdown",
   "id": "d4a1ca75-13ef-4a18-9011-995c871397d4",
   "metadata": {},
   "source": [
    "<a href=\"https://colab.research.google.com/drive/15shrPgjstek_qpAtfYTNq-BvEMu8KzXG?usp=sharing\" target=\"_parent\"><img src=\"https://colab.research.google.com/assets/colab-badge.svg\" alt=\"Open Vgg16 In Colab\"></a>"
   ]
  },
  {
   "cell_type": "code",
   "execution_count": null,
   "id": "d52d57d6-b7e4-4380-834d-19fab963c5f7",
   "metadata": {},
   "outputs": [],
   "source": []
  }
 ],
 "metadata": {
  "kernelspec": {
   "display_name": "Python 3 (ipykernel)",
   "language": "python",
   "name": "python3"
  },
  "language_info": {
   "codemirror_mode": {
    "name": "ipython",
    "version": 3
   },
   "file_extension": ".py",
   "mimetype": "text/x-python",
   "name": "python",
   "nbconvert_exporter": "python",
   "pygments_lexer": "ipython3",
   "version": "3.8.12"
  }
 },
 "nbformat": 4,
 "nbformat_minor": 5
}
