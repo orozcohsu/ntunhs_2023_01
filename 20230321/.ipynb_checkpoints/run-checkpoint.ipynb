{
 "cells": [
  {
   "cell_type": "markdown",
   "id": "c798122f-3e36-413f-a3f7-029618e24d54",
   "metadata": {},
   "source": [
    "### check_colab_gpu_tpu.ipynb"
   ]
  },
  {
   "cell_type": "markdown",
   "id": "9e7f8119-fc66-451d-8952-ca2cf0a8ee5e",
   "metadata": {},
   "source": [
    "<a href=\"https://colab.research.google.com/drive/1JwSggXgqF6jiNifVmO-OlvMHJuhkQFkg?usp=sharing\" target=\"_parent\"><img src=\"https://colab.research.google.com/assets/colab-badge.svg\" alt=\"check_colab_gpu_tpu\"></a>"
   ]
  },
  {
   "cell_type": "markdown",
   "id": "79533ef5-0d93-4f6f-ac14-8ba7df9c775f",
   "metadata": {},
   "source": [
    "### colab_google_drive.ipynb"
   ]
  },
  {
   "cell_type": "markdown",
   "id": "0990b4b9-5a8c-477d-aef3-45ac38c74d9a",
   "metadata": {},
   "source": [
    "<a href=\"https://drive.google.com/file/d/1woJyjBIJ9xW2klDyy7ves5qPNjxvPFoG/view?usp=sharing\" target=\"_parent\"><img src=\"https://colab.research.google.com/assets/colab-badge.svg\" alt=\"Open Vgg16 In Colab\"></a>"
   ]
  },
  {
   "cell_type": "markdown",
   "id": "3eaa0aa6-66e5-414e-9293-8244f35fed21",
   "metadata": {},
   "source": [
    "### interacting_table.ipynb"
   ]
  },
  {
   "cell_type": "markdown",
   "id": "6f3663cc-3663-4c33-94cc-5bfffc9ed19e",
   "metadata": {},
   "source": [
    "<a href=\"https://colab.research.google.com/drive/1PQktEMN6vcfOWGTZSecL87XiPHB_DIiC?usp=sharing\" target=\"_parent\"><img src=\"https://colab.research.google.com/assets/colab-badge.svg\" alt=\"Open Vgg16 In Colab\"></a>"
   ]
  },
  {
   "cell_type": "markdown",
   "id": "ba7fb5c0-17c5-469b-8a0e-eeab23a292b7",
   "metadata": {},
   "source": [
    "### colab_charts.ipynb"
   ]
  },
  {
   "cell_type": "markdown",
   "id": "11f65e7f-c108-477c-a537-8c357c9bf76e",
   "metadata": {},
   "source": [
    "<a href=\"https://drive.google.com/file/d/1cON-gfokuc6j44DwmTMN7SBBOsexqKWe/view?usp=sharing\" target=\"_parent\"><img src=\"https://colab.research.google.com/assets/colab-badge.svg\" alt=\"Open Vgg16 In Colab\"></a>"
   ]
  },
  {
   "cell_type": "markdown",
   "id": "06c61658-3103-4aa1-a035-84e12ce20e31",
   "metadata": {},
   "source": [
    "### colab_iris.ipynb"
   ]
  },
  {
   "cell_type": "markdown",
   "id": "907e7d1a-f241-44f6-b3bc-78fbe6a90f8e",
   "metadata": {},
   "source": [
    "<a href=\"https://drive.google.com/file/d/1ea4UT1T6uYNVnld5i_ZBg5f2gkRNoGAL?usp=sharing\" target=\"_parent\"><img src=\"https://colab.research.google.com/assets/colab-badge.svg\" alt=\"colab_iris\"></a>"
   ]
  },
  {
   "cell_type": "code",
   "execution_count": null,
   "id": "37d06f1f-b682-4709-af75-78adc70ddc35",
   "metadata": {},
   "outputs": [],
   "source": []
  }
 ],
 "metadata": {
  "kernelspec": {
   "display_name": "Python 3 (ipykernel)",
   "language": "python",
   "name": "python3"
  },
  "language_info": {
   "codemirror_mode": {
    "name": "ipython",
    "version": 3
   },
   "file_extension": ".py",
   "mimetype": "text/x-python",
   "name": "python",
   "nbconvert_exporter": "python",
   "pygments_lexer": "ipython3",
   "version": "3.8.0"
  }
 },
 "nbformat": 4,
 "nbformat_minor": 5
}
