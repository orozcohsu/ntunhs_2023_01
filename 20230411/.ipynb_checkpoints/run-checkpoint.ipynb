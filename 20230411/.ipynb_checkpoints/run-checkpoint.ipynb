{
 "cells": [
  {
   "cell_type": "markdown",
   "id": "79533ef5-0d93-4f6f-ac14-8ba7df9c775f",
   "metadata": {},
   "source": [
    "### colab_build_a_binary_image_classification.ipynb"
   ]
  },
  {
   "cell_type": "markdown",
   "id": "0990b4b9-5a8c-477d-aef3-45ac38c74d9a",
   "metadata": {},
   "source": [
    "<a href=\"https://colab.research.google.com/drive/1SOAgrEOU0gzYXtGGdURcq0tYtuAepQWi?usp=sharing\" target=\"_parent\"><img src=\"https://colab.research.google.com/assets/colab-badge.svg\" alt=\"20220328\"></a>"
   ]
  },
  {
   "cell_type": "code",
   "execution_count": null,
   "id": "d52d57d6-b7e4-4380-834d-19fab963c5f7",
   "metadata": {},
   "outputs": [],
   "source": []
  }
 ],
 "metadata": {
  "kernelspec": {
   "display_name": "Python 3 (ipykernel)",
   "language": "python",
   "name": "python3"
  },
  "language_info": {
   "codemirror_mode": {
    "name": "ipython",
    "version": 3
   },
   "file_extension": ".py",
   "mimetype": "text/x-python",
   "name": "python",
   "nbconvert_exporter": "python",
   "pygments_lexer": "ipython3",
   "version": "3.8.0"
  }
 },
 "nbformat": 4,
 "nbformat_minor": 5
}
